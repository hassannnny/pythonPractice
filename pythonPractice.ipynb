{
 "cells": [
  {
   "cell_type": "code",
   "execution_count": 17,
   "id": "e3af9667-6b7c-4c08-9500-ff0ed788a8eb",
   "metadata": {},
   "outputs": [
    {
     "name": "stdout",
     "output_type": "stream",
     "text": [
      "2\n"
     ]
    }
   ],
   "source": [
    "#count the number of strings WHERE the string length is 2 or more \n",
    "#AND \n",
    "#the first and last character are the same from the given list of strings\n",
    "\n",
    "\n",
    "list =  ['abc', 'xyz', 'aba', '1221']\n",
    "\n",
    "count = 0;\n",
    "\n",
    "for string in list: \n",
    "    if ((len(string) > 2) and (string[0] == string[len(string) -1])): \n",
    "        count += 1;\n",
    "\n",
    "\n",
    "print(count)"
   ]
  },
  {
   "cell_type": "code",
   "execution_count": 19,
   "id": "42ef2ba9-98a8-48cd-8e04-1cbd0132613f",
   "metadata": {},
   "outputs": [
    {
     "name": "stdout",
     "output_type": "stream",
     "text": [
      "[1, 'a', 2]\n"
     ]
    }
   ],
   "source": [
    "#write a python program to remove duplicates from a list\n",
    "\n",
    "\n",
    "list = [1, 1, 'a', 'a', 2, 2]\n",
    "\n",
    "temp = [] \n",
    "\n",
    "for string in list: \n",
    "    if string not in temp: \n",
    "        temp.append(string)\n",
    "        \n",
    "\n",
    "print(temp)"
   ]
  },
  {
   "cell_type": "code",
   "execution_count": 22,
   "id": "c9a6843d-240d-4d3a-afab-880b89792822",
   "metadata": {},
   "outputs": [
    {
     "name": "stdout",
     "output_type": "stream",
     "text": [
      "list is empty\n",
      "list is not empty\n"
     ]
    }
   ],
   "source": [
    "#write a python program to check if a list exists or not \n",
    "\n",
    "listOne = []\n",
    "listTwo = [0] \n",
    "\n",
    "if (len(listOne) == 0):\n",
    "    print(\"list is empty\")\n",
    "else: \n",
    "    print(\"list is not empty\")\n",
    "    \n",
    "    \n",
    "if (len(listTwo) == 0):\n",
    "    print(\"list is empty\")\n",
    "else: \n",
    "    print(\"list is not empty\")"
   ]
  },
  {
   "cell_type": "code",
   "execution_count": 23,
   "id": "5391fe40-2f5f-4c20-9ee4-a5a0206c003f",
   "metadata": {},
   "outputs": [
    {
     "name": "stdout",
     "output_type": "stream",
     "text": [
      "[1, 1, 'a', 'a', 2, 2]\n"
     ]
    }
   ],
   "source": [
    "#write a python program to clone or copy a list \n",
    "\n",
    "list = [1, 1, 'a', 'a', 2, 2]\n",
    "\n",
    "newList = []\n",
    "\n",
    "for element in list:\n",
    "    newList.append(element)\n",
    "    \n",
    "print(newList)"
   ]
  },
  {
   "cell_type": "code",
   "execution_count": 32,
   "id": "ca895676-0c83-4432-a239-41571f2e124c",
   "metadata": {},
   "outputs": [
    {
     "name": "stdout",
     "output_type": "stream",
     "text": [
      "[23, 73, 85]\n",
      "85\n"
     ]
    }
   ],
   "source": [
    "#Write a Python function to find the Max of three numbers.\n",
    "\n",
    "import random \n",
    "\n",
    "list = []\n",
    "i = 0; \n",
    "\n",
    "while i < 3: \n",
    "    list.append(random.randint(1, 100))\n",
    "    i += 1\n",
    "\n",
    "list.sort()\n",
    "\n",
    "print(list)\n",
    "\n",
    "print(list[-1])"
   ]
  },
  {
   "cell_type": "code",
   "execution_count": 34,
   "id": "df25b69c-2bdc-4e44-a16b-d38f9038f029",
   "metadata": {},
   "outputs": [
    {
     "name": "stdout",
     "output_type": "stream",
     "text": [
      "20\n"
     ]
    }
   ],
   "source": [
    "#Write a Python function to sum all the numbers in a list.\n",
    "\n",
    "list = [8, 2, 3, 0, 7]\n",
    "\n",
    "sum = 0\n",
    "\n",
    "for num in list:\n",
    "    sum += num\n",
    "    \n",
    "\n",
    "print(sum)\n"
   ]
  },
  {
   "cell_type": "code",
   "execution_count": 37,
   "id": "8e742919-3bc1-4a71-94d1-c2e394e7b65d",
   "metadata": {},
   "outputs": [
    {
     "name": "stdout",
     "output_type": "stream",
     "text": [
      "-336\n"
     ]
    }
   ],
   "source": [
    "#Write a Python function to multiply all the numbers in a list. \n",
    "\n",
    "list = [8, 2, 3, -1, 7]\n",
    "\n",
    "prod = 1 \n",
    "\n",
    "for num in list: \n",
    "    prod *= num\n",
    "    \n",
    "print(prod)"
   ]
  },
  {
   "cell_type": "code",
   "execution_count": 50,
   "id": "ef9e0a18-0457-4567-a4e0-ddede30fb405",
   "metadata": {},
   "outputs": [
    {
     "name": "stdout",
     "output_type": "stream",
     "text": [
      "dcba4321"
     ]
    }
   ],
   "source": [
    "#Write a Python program to reverse a string.\n",
    "\n",
    "string = \"1234abcd\" \n",
    "\n",
    "\n",
    "for char in reversed(string): \n",
    "    print(char, end=\"\")"
   ]
  },
  {
   "cell_type": "code",
   "execution_count": 5,
   "id": "da224a4b-cf52-4f70-b9f5-09a1163a8bca",
   "metadata": {},
   "outputs": [
    {
     "name": "stdin",
     "output_type": "stream",
     "text": [
      "Enter a number 2\n",
      "Enter an operation *\n",
      "Enter another number 1\n"
     ]
    },
    {
     "name": "stdout",
     "output_type": "stream",
     "text": [
      "2\n"
     ]
    }
   ],
   "source": [
    "#simple calculator\n",
    "\n",
    "num1 = input(\"Enter a number\") \n",
    "op = input(\"Enter an operation\")\n",
    "num2 = input(\"Enter another number\") \n",
    "\n",
    "\n",
    "if op == \"+\": \n",
    "    print(int(num1) + int(num2)) \n",
    "elif op == \"-\":\n",
    "    print(int(num1) - int(num2)) \n",
    "elif op == \"*\": \n",
    "    print(int(num1) * int(num2)) \n",
    "elif op == \"/\": \n",
    "    print(int(num1) / int(num2)) \n",
    "    \n"
   ]
  },
  {
   "cell_type": "code",
   "execution_count": 9,
   "id": "f678e144-9aef-47d2-8d12-881cae5138af",
   "metadata": {},
   "outputs": [
    {
     "name": "stdin",
     "output_type": "stream",
     "text": [
      "Enter 3 numbers with a space between each 1 2 3 \n"
     ]
    },
    {
     "name": "stdout",
     "output_type": "stream",
     "text": [
      "3\n"
     ]
    }
   ],
   "source": [
    "#largest among three numbers \n",
    "\n",
    "numbers = input(\"Enter 3 numbers with a space between each\")\n",
    "\n",
    "list = numbers.split(\" \")\n",
    "\n",
    "num = max(list[0], list[1])\n",
    "\n",
    "max = max(num, list[2])\n",
    "\n",
    "print(max)\n"
   ]
  },
  {
   "cell_type": "code",
   "execution_count": 14,
   "id": "fb29b410-fbca-4e3f-92a5-00eaaae4bb15",
   "metadata": {},
   "outputs": [
    {
     "name": "stdin",
     "output_type": "stream",
     "text": [
      "Enter a year:  2022\n"
     ]
    },
    {
     "name": "stdout",
     "output_type": "stream",
     "text": [
      "False\n"
     ]
    }
   ],
   "source": [
    "#leap year \n",
    "\n",
    "year = input(\"Enter a year: \")\n",
    "\n",
    "print(bool((int(year) % 4) == 0)) \n",
    "    \n"
   ]
  },
  {
   "cell_type": "code",
   "execution_count": 7,
   "id": "cd0f80dc-2657-4746-8321-c90a27f2d2b3",
   "metadata": {},
   "outputs": [
    {
     "name": "stdin",
     "output_type": "stream",
     "text": [
      "Enter a number:  10\n"
     ]
    },
    {
     "name": "stdout",
     "output_type": "stream",
     "text": [
      "0 1 1 2 3 5 8 13 21 34 "
     ]
    }
   ],
   "source": [
    "#fib sequence \n",
    "\n",
    "num = int(input(\"Enter a number: \"))\n",
    "\n",
    "previous = 0\n",
    "present = 1\n",
    "holder = 0\n",
    "print(previous, present, end=\" \")\n",
    "\n",
    "\n",
    "i = 3\n",
    "\n",
    "while i <= num:\n",
    "\n",
    "    holder = present\n",
    "\n",
    "    present = present + previous\n",
    "\n",
    "    print(present, end=\" \")\n",
    "\n",
    "    previous = holder\n",
    "\n",
    "    i += 1"
   ]
  },
  {
   "cell_type": "code",
   "execution_count": 9,
   "id": "163947f4-bfde-4d72-b414-6a492e96ff17",
   "metadata": {},
   "outputs": [
    {
     "name": "stdin",
     "output_type": "stream",
     "text": [
      "Enter a number:  53\n"
     ]
    },
    {
     "name": "stdout",
     "output_type": "stream",
     "text": [
      "True\n"
     ]
    }
   ],
   "source": [
    "#check prime number \n",
    "\n",
    "i = 1 \n",
    "count = 0\n",
    "\n",
    "num = int(input(\"Enter a number: \"))\n",
    "\n",
    "while i <= num:\n",
    "    \n",
    "    if num % i == 0:\n",
    "        count += 1\n",
    "        \n",
    "    i += 1\n",
    "    \n",
    "\n",
    "print(bool(count == 2))\n",
    "    \n",
    "    "
   ]
  },
  {
   "cell_type": "code",
   "execution_count": 10,
   "id": "8431e816-003b-4d68-b641-f85c5dbbef11",
   "metadata": {},
   "outputs": [
    {
     "name": "stdin",
     "output_type": "stream",
     "text": [
      "Enter a number -3\n"
     ]
    },
    {
     "name": "stdout",
     "output_type": "stream",
     "text": [
      "3\n"
     ]
    }
   ],
   "source": [
    "#absolute value using function \n",
    "\n",
    "num = int(input(\"Enter a number\")) \n",
    "\n",
    "print(abs(num))"
   ]
  },
  {
   "cell_type": "code",
   "execution_count": null,
   "id": "52320813-3f19-4951-ac42-039471aaac7c",
   "metadata": {},
   "outputs": [],
   "source": []
  }
 ],
 "metadata": {
  "kernelspec": {
   "display_name": "Python 3 (ipykernel)",
   "language": "python",
   "name": "python3"
  },
  "language_info": {
   "codemirror_mode": {
    "name": "ipython",
    "version": 3
   },
   "file_extension": ".py",
   "mimetype": "text/x-python",
   "name": "python",
   "nbconvert_exporter": "python",
   "pygments_lexer": "ipython3",
   "version": "3.9.12"
  },
  "toc-autonumbering": true,
  "toc-showcode": true,
  "toc-showtags": false
 },
 "nbformat": 4,
 "nbformat_minor": 5
}
